{
 "cells": [
  {
   "cell_type": "code",
   "execution_count": 69,
   "id": "67e0faf5-eccb-4b76-b951-909f5a04f0ba",
   "metadata": {},
   "outputs": [
    {
     "data": {
      "text/plain": [
       "dtype('float64')"
      ]
     },
     "execution_count": 69,
     "metadata": {},
     "output_type": "execute_result"
    }
   ],
   "source": [
    "# numpy - Numerical Python.\n",
    "import numpy as np\n",
    "arr = np.array([7,5,8,6,4,1.7,3])\n",
    "arr.dtype"
   ]
  },
  {
   "cell_type": "code",
   "execution_count": 231,
   "id": "09f83d0d-4e83-4b9b-9dde-47599e15c7b5",
   "metadata": {},
   "outputs": [
    {
     "name": "stdout",
     "output_type": "stream",
     "text": [
      "Dimension : 2\n",
      "Value of the num in first row and first col : 44\n",
      "Size of the array : 9\n"
     ]
    }
   ],
   "source": [
    "#multidimensional arrays\n",
    "arr_2d = np.array([[23,54,32,],[14,44,25],[65,99,11]])\n",
    "print(\"Dimension :\", arr_2d.ndim)\n",
    "print(\"Value of the num in first row and first col :\",arr_2d[1,1])\n",
    "print(\"Size of the array :\",arr_2d.size)"
   ]
  },
  {
   "cell_type": "code",
   "execution_count": 79,
   "id": "ecd42698-776d-4ffc-ad1d-b1259d1fd95e",
   "metadata": {
    "scrolled": true
   },
   "outputs": [
    {
     "name": "stdout",
     "output_type": "stream",
     "text": [
      "[2300 7400 9350 1700]\n"
     ]
    },
    {
     "data": {
      "text/plain": [
       "4"
      ]
     },
     "execution_count": 79,
     "metadata": {},
     "output_type": "execute_result"
    }
   ],
   "source": [
    "#numerical operations using numpy\n",
    "arr1 = np.array([2000,7000,9000,1000])\n",
    "arr2 = np.array([300,400,350,700])\n",
    "print(arr1+arr2)\n",
    "arr1.ndim\n",
    "arr1.size"
   ]
  },
  {
   "cell_type": "code",
   "execution_count": 213,
   "id": "6398b678-7fc6-4c68-b131-e91e4f0d8614",
   "metadata": {},
   "outputs": [
    {
     "data": {
      "text/plain": [
       "array([30, 27])"
      ]
     },
     "execution_count": 213,
     "metadata": {},
     "output_type": "execute_result"
    }
   ],
   "source": [
    "a = np.array([30,68,27,94,55,70,10,48,86])\n",
    "a[0:3:2]"
   ]
  },
  {
   "cell_type": "code",
   "execution_count": 211,
   "id": "561bbda3-e17e-46d0-a615-c35bcf69adae",
   "metadata": {},
   "outputs": [
    {
     "data": {
      "text/plain": [
       "array([[5, 3],\n",
       "       [7, 9]])"
      ]
     },
     "execution_count": 211,
     "metadata": {},
     "output_type": "execute_result"
    }
   ],
   "source": [
    "Matrix = np.array([[5,3,2],\n",
    "                  [7,9,4],\n",
    "                  [1,6,8]])\n",
    "Matrix[0:2,0:2]"
   ]
  },
  {
   "cell_type": "code",
   "execution_count": 305,
   "id": "8415e39e-7b64-4844-9d88-a087f2af19b6",
   "metadata": {
    "scrolled": true
   },
   "outputs": [
    {
     "data": {
      "text/plain": [
       "array([ 1,  4,  7, 10, 13, 16, 19, 22, 25, 28, 31, 34, 37, 40, 43, 46, 49,\n",
       "       52, 55, 58, 61, 64, 67, 70, 73, 76, 79, 82, 85, 88, 91, 94, 97])"
      ]
     },
     "execution_count": 305,
     "metadata": {},
     "output_type": "execute_result"
    }
   ],
   "source": [
    "ran_arr = np.arange(1,100,3)\n",
    "ran_arr"
   ]
  },
  {
   "cell_type": "code",
   "execution_count": 307,
   "id": "713e6a63-7a7e-4bf9-bfc5-b19ba4de1455",
   "metadata": {},
   "outputs": [
    {
     "data": {
      "text/plain": [
       "array([ 1.,  2.,  3.,  4.,  5.,  6.,  7.,  8.,  9., 10.])"
      ]
     },
     "execution_count": 307,
     "metadata": {},
     "output_type": "execute_result"
    }
   ],
   "source": [
    "lin_arr = np.linspace(1,10,10)\n",
    "lin_arr"
   ]
  },
  {
   "cell_type": "code",
   "execution_count": 362,
   "id": "f6d72afe-2300-4fd7-b4d6-c695315cb070",
   "metadata": {},
   "outputs": [
    {
     "data": {
      "text/plain": [
       "array([[1, 1, 1, 1, 1],\n",
       "       [1, 1, 1, 1, 1],\n",
       "       [1, 1, 1, 1, 1],\n",
       "       [1, 1, 1, 1, 1],\n",
       "       [1, 1, 1, 1, 1]])"
      ]
     },
     "execution_count": 362,
     "metadata": {},
     "output_type": "execute_result"
    }
   ],
   "source": [
    "ones = np.ones((5,5),dtype = np.int32)\n",
    "ones"
   ]
  },
  {
   "cell_type": "code",
   "execution_count": 364,
   "id": "60d5ed86-f0e7-4586-8cee-23d766ab3cf5",
   "metadata": {},
   "outputs": [
    {
     "data": {
      "text/plain": [
       "array([[0, 0, 0],\n",
       "       [0, 0, 0],\n",
       "       [0, 0, 0]])"
      ]
     },
     "execution_count": 364,
     "metadata": {},
     "output_type": "execute_result"
    }
   ],
   "source": [
    "zeros = np.zeros((3,3), dtype = np.int32)\n",
    "zeros"
   ]
  },
  {
   "cell_type": "code",
   "execution_count": 366,
   "id": "1556fd10-306a-481b-ad86-38681f6a0a0b",
   "metadata": {},
   "outputs": [
    {
     "data": {
      "text/plain": [
       "array([[1, 1, 1, 1, 1],\n",
       "       [1, 0, 0, 0, 1],\n",
       "       [1, 0, 0, 0, 1],\n",
       "       [1, 0, 0, 0, 1],\n",
       "       [1, 1, 1, 1, 1]])"
      ]
     },
     "execution_count": 366,
     "metadata": {},
     "output_type": "execute_result"
    }
   ],
   "source": [
    "ones[1:4,1:4] = zeros\n",
    "ones"
   ]
  },
  {
   "cell_type": "code",
   "execution_count": 368,
   "id": "3cb7eed2-1c3b-4cb0-a8ee-0228edd2c80a",
   "metadata": {},
   "outputs": [
    {
     "data": {
      "text/plain": [
       "array([[1, 1, 1, 1, 1],\n",
       "       [1, 0, 0, 0, 1],\n",
       "       [1, 0, 8, 0, 1],\n",
       "       [1, 0, 0, 0, 1],\n",
       "       [1, 1, 1, 1, 1]])"
      ]
     },
     "execution_count": 368,
     "metadata": {},
     "output_type": "execute_result"
    }
   ],
   "source": [
    "ones[2,2] = 8\n",
    "ones"
   ]
  },
  {
   "cell_type": "code",
   "execution_count": 370,
   "id": "9e9787f7-fbcf-4f8a-98b5-4895d6af53ea",
   "metadata": {},
   "outputs": [
    {
     "name": "stdout",
     "output_type": "stream",
     "text": [
      "24\n",
      "0.96\n",
      "0\n",
      "8\n",
      "1.5094369811290567\n"
     ]
    }
   ],
   "source": [
    "print(ones.sum())\n",
    "print(ones.mean())\n",
    "print(ones.min())\n",
    "print(ones.max())\n",
    "print(ones.std())"
   ]
  },
  {
   "cell_type": "code",
   "execution_count": 7,
   "id": "4376b7d5-8dd2-4299-b68d-0fc3091c749b",
   "metadata": {},
   "outputs": [
    {
     "name": "stdout",
     "output_type": "stream",
     "text": [
      "   id name  age loc   salary\n",
      "0   1    a   22  Py    30000\n",
      "1   2    b   24  Py    40000\n",
      "2   3    c   34  Tn    30000\n",
      "3   4    d   32  Py  1000000\n",
      "4   5    e   54  Tn   500000\n",
      "5   6    f   44  Py   500000\n",
      "6   7    g   27  Py    40000\n"
     ]
    },
    {
     "data": {
      "text/plain": [
       "(7, 5)"
      ]
     },
     "execution_count": 7,
     "metadata": {},
     "output_type": "execute_result"
    }
   ],
   "source": [
    "#PANDAS LIBRARY\n",
    "import pandas as pd\n",
    "data = {\n",
    "    'id' : [1,2,3,4,5,6,7],\n",
    "    'name':['a','b','c','d','e','f','g'],\n",
    "    'age': [22,24,34,32,54,44,27],\n",
    "    'loc': ['Py','Py','Tn','Py','Tn','Py','Py',],\n",
    "    'salary':[30000,40000,30000,1000000,500000,500000,40000]\n",
    "}\n",
    "dataframe = pd.DataFrame(data)\n",
    "print(dataframe)\n",
    "dataframe.shape"
   ]
  },
  {
   "cell_type": "code",
   "execution_count": 402,
   "id": "64cea507-2287-45ff-a6bb-ddf8c9e60783",
   "metadata": {},
   "outputs": [
    {
     "data": {
      "text/html": [
       "<div>\n",
       "<style scoped>\n",
       "    .dataframe tbody tr th:only-of-type {\n",
       "        vertical-align: middle;\n",
       "    }\n",
       "\n",
       "    .dataframe tbody tr th {\n",
       "        vertical-align: top;\n",
       "    }\n",
       "\n",
       "    .dataframe thead th {\n",
       "        text-align: right;\n",
       "    }\n",
       "</style>\n",
       "<table border=\"1\" class=\"dataframe\">\n",
       "  <thead>\n",
       "    <tr style=\"text-align: right;\">\n",
       "      <th></th>\n",
       "      <th>id</th>\n",
       "      <th>name</th>\n",
       "      <th>age</th>\n",
       "      <th>loc</th>\n",
       "      <th>salary</th>\n",
       "    </tr>\n",
       "  </thead>\n",
       "  <tbody>\n",
       "    <tr>\n",
       "      <th>0</th>\n",
       "      <td>1</td>\n",
       "      <td>a</td>\n",
       "      <td>22</td>\n",
       "      <td>Py</td>\n",
       "      <td>30000</td>\n",
       "    </tr>\n",
       "    <tr>\n",
       "      <th>1</th>\n",
       "      <td>2</td>\n",
       "      <td>b</td>\n",
       "      <td>24</td>\n",
       "      <td>Py</td>\n",
       "      <td>40000</td>\n",
       "    </tr>\n",
       "    <tr>\n",
       "      <th>2</th>\n",
       "      <td>3</td>\n",
       "      <td>c</td>\n",
       "      <td>34</td>\n",
       "      <td>Tn</td>\n",
       "      <td>30000</td>\n",
       "    </tr>\n",
       "    <tr>\n",
       "      <th>3</th>\n",
       "      <td>4</td>\n",
       "      <td>d</td>\n",
       "      <td>32</td>\n",
       "      <td>Py</td>\n",
       "      <td>1000000</td>\n",
       "    </tr>\n",
       "    <tr>\n",
       "      <th>4</th>\n",
       "      <td>5</td>\n",
       "      <td>e</td>\n",
       "      <td>54</td>\n",
       "      <td>Tn</td>\n",
       "      <td>500000</td>\n",
       "    </tr>\n",
       "    <tr>\n",
       "      <th>5</th>\n",
       "      <td>6</td>\n",
       "      <td>f</td>\n",
       "      <td>44</td>\n",
       "      <td>Py</td>\n",
       "      <td>500000</td>\n",
       "    </tr>\n",
       "    <tr>\n",
       "      <th>6</th>\n",
       "      <td>7</td>\n",
       "      <td>g</td>\n",
       "      <td>27</td>\n",
       "      <td>Py</td>\n",
       "      <td>40000</td>\n",
       "    </tr>\n",
       "  </tbody>\n",
       "</table>\n",
       "</div>"
      ],
      "text/plain": [
       "   id name  age loc   salary\n",
       "0   1    a   22  Py    30000\n",
       "1   2    b   24  Py    40000\n",
       "2   3    c   34  Tn    30000\n",
       "3   4    d   32  Py  1000000\n",
       "4   5    e   54  Tn   500000\n",
       "5   6    f   44  Py   500000\n",
       "6   7    g   27  Py    40000"
      ]
     },
     "execution_count": 402,
     "metadata": {},
     "output_type": "execute_result"
    }
   ],
   "source": [
    "dataframe.head(7)"
   ]
  },
  {
   "cell_type": "code",
   "execution_count": 390,
   "id": "ead2669e-c613-434b-ae61-9198d6365dfc",
   "metadata": {},
   "outputs": [
    {
     "data": {
      "text/html": [
       "<div>\n",
       "<style scoped>\n",
       "    .dataframe tbody tr th:only-of-type {\n",
       "        vertical-align: middle;\n",
       "    }\n",
       "\n",
       "    .dataframe tbody tr th {\n",
       "        vertical-align: top;\n",
       "    }\n",
       "\n",
       "    .dataframe thead th {\n",
       "        text-align: right;\n",
       "    }\n",
       "</style>\n",
       "<table border=\"1\" class=\"dataframe\">\n",
       "  <thead>\n",
       "    <tr style=\"text-align: right;\">\n",
       "      <th></th>\n",
       "      <th>id</th>\n",
       "      <th>name</th>\n",
       "      <th>age</th>\n",
       "      <th>loc</th>\n",
       "      <th>salary</th>\n",
       "    </tr>\n",
       "  </thead>\n",
       "  <tbody>\n",
       "    <tr>\n",
       "      <th>5</th>\n",
       "      <td>6</td>\n",
       "      <td>f</td>\n",
       "      <td>44</td>\n",
       "      <td>Py</td>\n",
       "      <td>500000</td>\n",
       "    </tr>\n",
       "    <tr>\n",
       "      <th>6</th>\n",
       "      <td>7</td>\n",
       "      <td>g</td>\n",
       "      <td>27</td>\n",
       "      <td>Py</td>\n",
       "      <td>40000</td>\n",
       "    </tr>\n",
       "  </tbody>\n",
       "</table>\n",
       "</div>"
      ],
      "text/plain": [
       "   id name  age loc  salary\n",
       "5   6    f   44  Py  500000\n",
       "6   7    g   27  Py   40000"
      ]
     },
     "execution_count": 390,
     "metadata": {},
     "output_type": "execute_result"
    }
   ],
   "source": [
    "dataframe.tail(2)"
   ]
  },
  {
   "cell_type": "code",
   "execution_count": 9,
   "id": "acdfd7e6-73cc-4b88-8ec7-5747c836f00c",
   "metadata": {},
   "outputs": [
    {
     "data": {
      "text/html": [
       "<div>\n",
       "<style scoped>\n",
       "    .dataframe tbody tr th:only-of-type {\n",
       "        vertical-align: middle;\n",
       "    }\n",
       "\n",
       "    .dataframe tbody tr th {\n",
       "        vertical-align: top;\n",
       "    }\n",
       "\n",
       "    .dataframe thead th {\n",
       "        text-align: right;\n",
       "    }\n",
       "</style>\n",
       "<table border=\"1\" class=\"dataframe\">\n",
       "  <thead>\n",
       "    <tr style=\"text-align: right;\">\n",
       "      <th></th>\n",
       "      <th>id</th>\n",
       "      <th>age</th>\n",
       "      <th>salary</th>\n",
       "    </tr>\n",
       "  </thead>\n",
       "  <tbody>\n",
       "    <tr>\n",
       "      <th>count</th>\n",
       "      <td>7.000000</td>\n",
       "      <td>7.000000</td>\n",
       "      <td>7.000000</td>\n",
       "    </tr>\n",
       "    <tr>\n",
       "      <th>mean</th>\n",
       "      <td>4.000000</td>\n",
       "      <td>33.857143</td>\n",
       "      <td>305714.285714</td>\n",
       "    </tr>\n",
       "    <tr>\n",
       "      <th>std</th>\n",
       "      <td>2.160247</td>\n",
       "      <td>11.524301</td>\n",
       "      <td>376557.084776</td>\n",
       "    </tr>\n",
       "    <tr>\n",
       "      <th>min</th>\n",
       "      <td>1.000000</td>\n",
       "      <td>22.000000</td>\n",
       "      <td>30000.000000</td>\n",
       "    </tr>\n",
       "    <tr>\n",
       "      <th>25%</th>\n",
       "      <td>2.500000</td>\n",
       "      <td>25.500000</td>\n",
       "      <td>35000.000000</td>\n",
       "    </tr>\n",
       "    <tr>\n",
       "      <th>50%</th>\n",
       "      <td>4.000000</td>\n",
       "      <td>32.000000</td>\n",
       "      <td>40000.000000</td>\n",
       "    </tr>\n",
       "    <tr>\n",
       "      <th>75%</th>\n",
       "      <td>5.500000</td>\n",
       "      <td>39.000000</td>\n",
       "      <td>500000.000000</td>\n",
       "    </tr>\n",
       "    <tr>\n",
       "      <th>max</th>\n",
       "      <td>7.000000</td>\n",
       "      <td>54.000000</td>\n",
       "      <td>1000000.000000</td>\n",
       "    </tr>\n",
       "  </tbody>\n",
       "</table>\n",
       "</div>"
      ],
      "text/plain": [
       "             id        age          salary\n",
       "count  7.000000   7.000000        7.000000\n",
       "mean   4.000000  33.857143   305714.285714\n",
       "std    2.160247  11.524301   376557.084776\n",
       "min    1.000000  22.000000    30000.000000\n",
       "25%    2.500000  25.500000    35000.000000\n",
       "50%    4.000000  32.000000    40000.000000\n",
       "75%    5.500000  39.000000   500000.000000\n",
       "max    7.000000  54.000000  1000000.000000"
      ]
     },
     "execution_count": 9,
     "metadata": {},
     "output_type": "execute_result"
    }
   ],
   "source": [
    "dataframe.describe()"
   ]
  },
  {
   "cell_type": "code",
   "execution_count": 11,
   "id": "b22cdc0a-e587-4c70-aab3-e53497f67731",
   "metadata": {},
   "outputs": [
    {
     "name": "stdout",
     "output_type": "stream",
     "text": [
      "<class 'pandas.core.frame.DataFrame'>\n",
      "RangeIndex: 7 entries, 0 to 6\n",
      "Data columns (total 5 columns):\n",
      " #   Column  Non-Null Count  Dtype \n",
      "---  ------  --------------  ----- \n",
      " 0   id      7 non-null      int64 \n",
      " 1   name    7 non-null      object\n",
      " 2   age     7 non-null      int64 \n",
      " 3   loc     7 non-null      object\n",
      " 4   salary  7 non-null      int64 \n",
      "dtypes: int64(3), object(2)\n",
      "memory usage: 412.0+ bytes\n"
     ]
    }
   ],
   "source": [
    "dataframe.info()"
   ]
  }
 ],
 "metadata": {
  "kernelspec": {
   "display_name": "Python [conda env:base] *",
   "language": "python",
   "name": "conda-base-py"
  },
  "language_info": {
   "codemirror_mode": {
    "name": "ipython",
    "version": 3
   },
   "file_extension": ".py",
   "mimetype": "text/x-python",
   "name": "python",
   "nbconvert_exporter": "python",
   "pygments_lexer": "ipython3",
   "version": "3.12.7"
  }
 },
 "nbformat": 4,
 "nbformat_minor": 5
}
