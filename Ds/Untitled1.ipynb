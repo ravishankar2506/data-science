{
 "cells": [
  {
   "cell_type": "code",
   "execution_count": 42,
   "id": "31c2dfd4-5be9-4133-a07d-4efb5e4eba8e",
   "metadata": {},
   "outputs": [
    {
     "name": "stdout",
     "output_type": "stream",
     "text": [
      "130\n",
      "-10\n",
      "4200\n",
      "0.8571428571428571\n"
     ]
    }
   ],
   "source": [
    "def luck(a,b):\n",
    "    print(a+b)\n",
    "    print(a-b)\n",
    "    print(a*b)\n",
    "    print(a/b)\n",
    "luck\n"
   ]
  },
  {
   "cell_type": "code",
   "execution_count": null,
   "id": "e33b132e-296b-4bbb-b0b3-5fd632376bc3",
   "metadata": {},
   "outputs": [],
   "source": []
  },
  {
   "cell_type": "code",
   "execution_count": null,
   "id": "5b4fb59b-7d3d-4ae5-804f-adb1c31e03f8",
   "metadata": {},
   "outputs": [],
   "source": []
  }
 ],
 "metadata": {
  "kernelspec": {
   "display_name": "Python [conda env:base] *",
   "language": "python",
   "name": "conda-base-py"
  },
  "language_info": {
   "codemirror_mode": {
    "name": "ipython",
    "version": 3
   },
   "file_extension": ".py",
   "mimetype": "text/x-python",
   "name": "python",
   "nbconvert_exporter": "python",
   "pygments_lexer": "ipython3",
   "version": "3.12.7"
  }
 },
 "nbformat": 4,
 "nbformat_minor": 5
}
